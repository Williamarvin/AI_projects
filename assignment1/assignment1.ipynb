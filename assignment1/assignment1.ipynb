{
 "cells": [
  {
   "cell_type": "markdown",
   "metadata": {},
   "source": [
    "# COMP3211 Assignment1:\n",
    "\n",
    "### Contact TA:\n",
    "Cheng JIN, cjinag@cse.ust.hk\n",
    "Yubo Wang, ywangnx@cse.ust.hk\n",
    "Yingji Zhong, yingji.zhong@connect.ust.hk\n",
    "\n",
    "You need to install the matplotlib package in advance, try this command:\n",
    "`\n",
    "pip3 install matplotlib\n",
    "`\n",
    "or\n",
    "`\n",
    "conda install matplotlib\n",
    "`"
   ]
  },
  {
   "cell_type": "code",
   "execution_count": null,
   "metadata": {},
   "outputs": [],
   "source": [
    "import torch\n",
    "import numpy as np\n",
    "import torch.nn as nn\n",
    "import matplotlib.pyplot as plt\n",
    "import csv\n",
    "import random"
   ]
  },
  {
   "cell_type": "code",
   "execution_count": null,
   "metadata": {},
   "outputs": [],
   "source": [
    "def setup_seed(seed):\n",
    "    torch.manual_seed(seed)\n",
    "    torch.cuda.manual_seed_all(seed)\n",
    "    np.random.seed(seed)\n",
    "    random.seed(seed)\n",
    "    torch.backends.cudnn.deterministic = True\n",
    "\n",
    "\n",
    "def AccuarcyCompute(pred: torch.Tensor, label: torch.Tensor):\n",
    "    pred = pred.cpu().data.numpy()\n",
    "    label = label.cpu().data.numpy()\n",
    "    test_np = (np.argmax(pred, 1) == label)\n",
    "    test_np = np.float32(test_np)\n",
    "    return np.mean(test_np)\n",
    "\n",
    "\n",
    "def plot_fig(Y: list, title: str, dir: str, X=None, x_label=None):\n",
    "    if X is None:\n",
    "        plt.plot(Y)\n",
    "    else:\n",
    "        plt.plot(X, Y)\n",
    "    if 'train' in title or 'loss' in title:\n",
    "        plt.ylabel('loss')\n",
    "    else:\n",
    "        plt.ylabel('accuracy')\n",
    "    if x_label:\n",
    "        plt.xlabel(x_label)\n",
    "    else:\n",
    "        plt.xlabel('epoch')\n",
    "    plt.title(title)\n",
    "    plt.savefig(dir)\n",
    "    plt.show()\n",
    "\n",
    "\n",
    "def plot_decision_boundary(dataset_test, labels, labels_predicted, layer_num=None, title=None, color_map='coolwarm',\n",
    "                           name='2_moon_decision_boundary_'):\n",
    "    dataset = dataset_test.detach().cpu().numpy()\n",
    "    color_map = plt.get_cmap(color_map)\n",
    "    xmin, xmax = dataset[:, 0].min() - 1, dataset[:, 0].max() + 1\n",
    "    ymin, ymax = dataset[:, 1].min() - 1, dataset[:, 1].max() + 1\n",
    "    x_span = np.linspace(xmin, xmax, int(dataset.shape[0] / 10))\n",
    "    y_span = np.linspace(ymin, ymax, 10)\n",
    "    xx, yy = np.meshgrid(x_span, y_span)\n",
    "    temp = []\n",
    "    for k in range(10):\n",
    "        for j in range(int(dataset.shape[0]/10)-1, -1, -1):\n",
    "            for all in range(dataset.shape[0]):\n",
    "                if y_span[k] <= dataset[all,1] <= y_span[k+1]:\n",
    "                    if x_span[j] <= dataset[all,0] <= x_span[j+1]:\n",
    "                        temp.append(labels_predicted[all])\n",
    "    labels_predicted=np.array(temp)\n",
    "    z = labels_predicted.reshape(xx.shape)\n",
    "    fig, ax = plt.subplots()\n",
    "    ax.contourf(xx, yy, z, cmap=color_map, alpha=0.5)\n",
    "    ax.scatter(dataset[:, 0], dataset[:, 1], c=labels, cmap=color_map)\n",
    "    plt.xlabel('feature 1')\n",
    "    plt.ylabel('feature 2')\n",
    "    if layer_num:\n",
    "        plt.title('2 moon decision boundary with ' + str(layer_num) + ' hidden units')\n",
    "        plt.savefig(name + str(layer_num) + '.png')\n",
    "    elif title:\n",
    "        plt.title(title)\n",
    "        plt.savefig(title + '.png')\n",
    "    plt.show()\n",
    "\n",
    "\n",
    "def load_data(dataset: str):\n",
    "    path_list = [dataset + '_train.csv', dataset + '_valid.csv', dataset + '_test.csv']\n",
    "    data_list_total, label_list_total = [], []\n",
    "    for path in path_list:\n",
    "        data_list, label_list = [], []\n",
    "        with open(path, 'r') as file:\n",
    "            reader = csv.reader(file)\n",
    "            for idx, row in enumerate(reader):\n",
    "                data_list.append([float(x) for x in row[:-1]])\n",
    "                label_list.append(int(row[-1]))\n",
    "        data_list_total.append(data_list)\n",
    "        label_list_total.append(label_list)\n",
    "    return data_list_total, label_list_total\n"
   ]
  },
  {
   "cell_type": "markdown",
   "metadata": {},
   "source": [
    "## Problem 2: 2 moon"
   ]
  },
  {
   "cell_type": "code",
   "execution_count": null,
   "metadata": {},
   "outputs": [],
   "source": [
    "setup_seed(3211)\n",
    "\n",
    "data_list, label_list = load_data('2_moon')\n",
    "train_data = data_list[0]\n",
    "train_label = label_list[0]\n",
    "valid_data = data_list[1]\n",
    "valid_label = label_list[1]\n",
    "test_data = data_list[2]\n",
    "test_label = label_list[2]\n",
    "train_data.extend(valid_data)\n",
    "train_label.extend(valid_label)\n",
    "train_input = torch.tensor(train_data)\n",
    "train_label = torch.tensor(train_label)\n",
    "test_input = torch.tensor(test_data)\n",
    "test_label = torch.tensor(test_label)"
   ]
  },
  {
   "cell_type": "markdown",
   "metadata": {},
   "source": [
    "Modify the functions below:"
   ]
  },
  {
   "cell_type": "code",
   "execution_count": null,
   "metadata": {},
   "outputs": [],
   "source": [
    "def build_1_layer_mlp(nbr_hidden_unit):\n",
    "    # Your code here\n",
    "    return mlp\n",
    "\n",
    "\n"
   ]
  },
  {
   "cell_type": "code",
   "execution_count": null,
   "metadata": {},
   "outputs": [],
   "source": [
    "def train_mlp():\n",
    "    epochs = 30\n",
    "    loss_list, test_acc = [], []\n",
    "    lossfunc = torch.nn.CrossEntropyLoss()\n",
    "    hidden_unit_list = [2, 10, 50, 100, 1000, 10000]\n",
    "    for hidden_unit in hidden_unit_list:\n",
    "        mlp = build_1_layer_mlp(hidden_unit)\n",
    "        optimizer = torch.optim.SGD(mlp.parameters(), lr=0.001, momentum=0.9)\n",
    "        for i_epoch in range(epochs):\n",
    "            optimizer.zero_grad()\n",
    "            outputs = mlp(train_input)\n",
    "            loss = lossfunc(outputs, train_label)\n",
    "            loss.backward()\n",
    "            optimizer.step()\n",
    "        with torch.no_grad():\n",
    "            test_outputs = mlp(test_input)\n",
    "            acc = AccuarcyCompute(test_outputs, test_label)\n",
    "            test_acc.append(acc)\n",
    "            print('Accuracy :{}'.format(acc))\n",
    "            predicted_label = np.argmax(test_outputs.cpu().data.numpy(), 1)\n",
    "        plot_decision_boundary(test_input, test_label, predicted_label, layer_num=hidden_unit)\n",
    "    plot_fig(test_acc, 'Test acc for MLPs', '2_moon_val_acc.png', [str(i) for i in hidden_unit_list],x_label='hidden units')\n",
    "\n",
    "\n",
    "train_mlp()"
   ]
  },
  {
   "cell_type": "markdown",
   "metadata": {},
   "source": [
    "## Problem 3 : Iris"
   ]
  },
  {
   "cell_type": "code",
   "execution_count": null,
   "metadata": {},
   "outputs": [],
   "source": [
    "setup_seed(3211)\n",
    "data_list, label_list = load_data('iris')\n",
    "train_data = data_list[0]\n",
    "train_label = label_list[0]\n",
    "valid_data = data_list[1]\n",
    "valid_label = label_list[1]\n",
    "test_data = data_list[2]\n",
    "test_label = label_list[2]\n",
    "train_input = torch.tensor(train_data)\n",
    "train_label = torch.tensor(train_label)\n",
    "valid_input = torch.tensor(valid_data)\n",
    "valid_label = torch.tensor(valid_label)\n",
    "test_input = torch.tensor(test_data)\n",
    "test_label = torch.tensor(test_label)"
   ]
  },
  {
   "cell_type": "raw",
   "metadata": {},
   "source": [
    "Modify the build_mlp() and train_mlp() funcition below:"
   ]
  },
  {
   "cell_type": "code",
   "execution_count": null,
   "metadata": {},
   "outputs": [],
   "source": [
    "def build_mlp():\n",
    "    # Your code here\n",
    "\n",
    "\n",
    "mlp = build_mlp()"
   ]
  },
  {
   "cell_type": "code",
   "execution_count": null,
   "metadata": {},
   "outputs": [],
   "source": [
    "def train_mlp():\n",
    "    # Your code here\n",
    "\n",
    "train_mlp()"
   ]
  }
 ],
 "metadata": {
  "kernelspec": {
   "display_name": "Python 3 (ipykernel)",
   "language": "python",
   "name": "python3"
  },
  "language_info": {
   "codemirror_mode": {
    "name": "ipython",
    "version": 3
   },
   "file_extension": ".py",
   "mimetype": "text/x-python",
   "name": "python",
   "nbconvert_exporter": "python",
   "pygments_lexer": "ipython3",
   "version": "3.10.9"
  }
 },
 "nbformat": 4,
 "nbformat_minor": 1
}
